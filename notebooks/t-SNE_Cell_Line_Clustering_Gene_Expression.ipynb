{
 "cells": [
  {
   "cell_type": "markdown",
   "metadata": {},
   "source": [
    "# t-SNE Cell Line Clustering with Gene Expression Data\n",
    "I'll use t-SNE to get an overview of cell line clustering based on gene expression data from the CCLE. "
   ]
  },
  {
   "cell_type": "code",
   "execution_count": 7,
   "metadata": {
    "collapsed": true
   },
   "outputs": [],
   "source": [
    "import tsne_fun"
   ]
  },
  {
   "cell_type": "code",
   "execution_count": 8,
   "metadata": {
    "collapsed": false
   },
   "outputs": [
    {
     "name": "stdout",
     "output_type": "stream",
     "text": [
      "(18874, 37)\n",
      "['A549', 'CAL-12T', 'Calu-3', 'DMS153', 'DMS53', 'H1299', 'H1355', 'H1437', 'H1650', 'H1666', 'H1703', 'H1734', 'H1781', 'H1792', 'H1944', 'H1975', 'H209', 'H2106', 'H2228', 'H23', 'H2342', 'H2405', 'H358', 'H441', 'H446', 'H460', 'H524', 'H526', 'H661', 'H69', 'H82', 'H838', 'HCC15', 'HCC44', 'HCC78', 'HCC827', 'LOUNH91']\n"
     ]
    },
    {
     "ename": "KeyError",
     "evalue": "'H1437'",
     "output_type": "error",
     "traceback": [
      "\u001b[0;31m---------------------------------------------------------------------------\u001b[0m",
      "\u001b[0;31mKeyError\u001b[0m                                  Traceback (most recent call last)",
      "\u001b[0;32m<ipython-input-8-905758722b78>\u001b[0m in \u001b[0;36m<module>\u001b[0;34m()\u001b[0m\n\u001b[0;32m----> 1\u001b[0;31m \u001b[0mtsne_fun\u001b[0m\u001b[0;34m.\u001b[0m\u001b[0mnormalize_and_make_tsne\u001b[0m\u001b[0;34m(\u001b[0m\u001b[0;34m'exp'\u001b[0m\u001b[0;34m)\u001b[0m\u001b[0;34m\u001b[0m\u001b[0m\n\u001b[0m",
      "\u001b[0;32m/Users/nickfernandez/Documents/CST_Lung_Cancer_Viz/notebooks/tsne_fun.py\u001b[0m in \u001b[0;36mnormalize_and_make_tsne\u001b[0;34m(data_type, qn_col, zscore_row, filter_missing, skl_version, random_state, learning_rate)\u001b[0m\n\u001b[1;32m    122\u001b[0m     \u001b[0;32mprint\u001b[0m\u001b[0;34m(\u001b[0m\u001b[0mmat\u001b[0m\u001b[0;34m.\u001b[0m\u001b[0mshape\u001b[0m\u001b[0;34m)\u001b[0m\u001b[0;34m\u001b[0m\u001b[0m\n\u001b[1;32m    123\u001b[0m \u001b[0;34m\u001b[0m\u001b[0m\n\u001b[0;32m--> 124\u001b[0;31m     \u001b[0mhist_cmap\u001b[0m\u001b[0;34m,\u001b[0m \u001b[0mplex_cmap\u001b[0m \u001b[0;34m=\u001b[0m \u001b[0mget_cmaps\u001b[0m\u001b[0;34m(\u001b[0m\u001b[0minst_df\u001b[0m\u001b[0;34m)\u001b[0m\u001b[0;34m\u001b[0m\u001b[0m\n\u001b[0m\u001b[1;32m    125\u001b[0m \u001b[0;34m\u001b[0m\u001b[0m\n\u001b[1;32m    126\u001b[0m     make_cl_tsne_hist_plex(mat, cmap_left=hist_cmap, cmap_right=plex_cmap,\n",
      "\u001b[0;32m/Users/nickfernandez/Documents/CST_Lung_Cancer_Viz/notebooks/tsne_fun.py\u001b[0m in \u001b[0;36mget_cmaps\u001b[0;34m(inst_df)\u001b[0m\n\u001b[1;32m    134\u001b[0m \u001b[0;34m\u001b[0m\u001b[0m\n\u001b[1;32m    135\u001b[0m     \u001b[0mcl_names\u001b[0m  \u001b[0;34m=\u001b[0m \u001b[0mmake_simple_cl_names\u001b[0m\u001b[0;34m(\u001b[0m\u001b[0mtuple_cols\u001b[0m\u001b[0;34m)\u001b[0m\u001b[0;34m\u001b[0m\u001b[0m\n\u001b[0;32m--> 136\u001b[0;31m     \u001b[0mhist_cmap\u001b[0m \u001b[0;34m=\u001b[0m \u001b[0mmake_hist_cmap\u001b[0m\u001b[0;34m(\u001b[0m\u001b[0mcl_names\u001b[0m\u001b[0;34m)\u001b[0m\u001b[0;34m\u001b[0m\u001b[0m\n\u001b[0m\u001b[1;32m    137\u001b[0m     \u001b[0mplex_cmap\u001b[0m \u001b[0;34m=\u001b[0m \u001b[0mmake_plex_cmap\u001b[0m\u001b[0;34m(\u001b[0m\u001b[0mcl_names\u001b[0m\u001b[0;34m)\u001b[0m\u001b[0;34m\u001b[0m\u001b[0m\n\u001b[1;32m    138\u001b[0m \u001b[0;34m\u001b[0m\u001b[0m\n",
      "\u001b[0;32m/Users/nickfernandez/Documents/CST_Lung_Cancer_Viz/notebooks/tsne_fun.py\u001b[0m in \u001b[0;36mmake_hist_cmap\u001b[0;34m(cl_names)\u001b[0m\n\u001b[1;32m     23\u001b[0m     \u001b[0mhist_cmap\u001b[0m \u001b[0;34m=\u001b[0m \u001b[0;34m[\u001b[0m\u001b[0;34m]\u001b[0m\u001b[0;34m\u001b[0m\u001b[0m\n\u001b[1;32m     24\u001b[0m     \u001b[0;32mfor\u001b[0m \u001b[0minst_cl\u001b[0m \u001b[0;32min\u001b[0m \u001b[0mcl_names\u001b[0m\u001b[0;34m:\u001b[0m\u001b[0;34m\u001b[0m\u001b[0m\n\u001b[0;32m---> 25\u001b[0;31m         \u001b[0minst_hist\u001b[0m \u001b[0;34m=\u001b[0m \u001b[0mcl_info\u001b[0m\u001b[0;34m[\u001b[0m\u001b[0minst_cl\u001b[0m\u001b[0;34m]\u001b[0m\u001b[0;34m[\u001b[0m\u001b[0;34m'Histology'\u001b[0m\u001b[0;34m]\u001b[0m\u001b[0;34m\u001b[0m\u001b[0m\n\u001b[0m\u001b[1;32m     26\u001b[0m         \u001b[0;32mif\u001b[0m \u001b[0minst_hist\u001b[0m \u001b[0;34m==\u001b[0m \u001b[0;34m'NSCLC'\u001b[0m\u001b[0;34m:\u001b[0m\u001b[0;34m\u001b[0m\u001b[0m\n\u001b[1;32m     27\u001b[0m             \u001b[0mhist_cmap\u001b[0m\u001b[0;34m.\u001b[0m\u001b[0mappend\u001b[0m\u001b[0;34m(\u001b[0m\u001b[0;36m0\u001b[0m\u001b[0;34m)\u001b[0m\u001b[0;34m\u001b[0m\u001b[0m\n",
      "\u001b[0;31mKeyError\u001b[0m: 'H1437'"
     ]
    }
   ],
   "source": [
    "tsne_fun.normalize_and_make_tsne('exp')"
   ]
  },
  {
   "cell_type": "code",
   "execution_count": null,
   "metadata": {
    "collapsed": true
   },
   "outputs": [],
   "source": []
  }
 ],
 "metadata": {
  "kernelspec": {
   "display_name": "Python [Root]",
   "language": "python",
   "name": "Python [Root]"
  },
  "language_info": {
   "codemirror_mode": {
    "name": "ipython",
    "version": 2
   },
   "file_extension": ".py",
   "mimetype": "text/x-python",
   "name": "python",
   "nbconvert_exporter": "python",
   "pygments_lexer": "ipython2",
   "version": "2.7.12"
  }
 },
 "nbformat": 4,
 "nbformat_minor": 1
}
