{
 "cells": [
  {
   "cell_type": "code",
   "execution_count": 29,
   "metadata": {
    "collapsed": false
   },
   "outputs": [],
   "source": [
    "import matplotlib.pyplot as plt\n",
    "%matplotlib inline \n",
    "import matplotlib\n",
    "matplotlib.style.use('ggplot')\n",
    "\n",
    "def load_data(data_type):\n",
    "    import numpy as np\n",
    "    import matplotlib.pyplot as plt\n",
    "    # %matplotlib inline\n",
    "    import matplotlib\n",
    "    matplotlib.style.use('ggplot')\n",
    "    from clustergrammer import Network\n",
    "    from copy import deepcopy\n",
    "\n",
    "    filename = '../lung_cellline_3_1_16/lung_cl_all_ptm/precalc_processed/' + \\\n",
    "             data_type + '.txt'\n",
    "\n",
    "    # load file and export dataframe\n",
    "    net = deepcopy(Network())\n",
    "    net.load_file(filename)\n",
    "    net.swap_nan_for_zero()\n",
    "    tmp_df = net.dat_to_df()\n",
    "    df = tmp_df['mat']\n",
    "\n",
    "    return df"
   ]
  },
  {
   "cell_type": "code",
   "execution_count": 114,
   "metadata": {
    "collapsed": false
   },
   "outputs": [
    {
     "name": "stdout",
     "output_type": "stream",
     "text": [
      "(865, 45)\n"
     ]
    }
   ],
   "source": [
    "\n",
    "# filtering\n",
    "################\n",
    "# data_type = 'ptm45_filter_none'\n",
    "data_type = 'ptm45_filter_col-qn'\n",
    "# data_type = 'ptm45_filter_col-qn_row-zscore'\n",
    "\n",
    "# no filtering\n",
    "################\n",
    "# data_type = 'ptm45_none'\n",
    "# data_type = 'ptm45_col-qn'\n",
    "# data_type = 'ptm45_col-qn_row-zscore'\n",
    "\n",
    "\n",
    "df = load_data(data_type)\n",
    "\n",
    "\n",
    "print(df.shape)\n",
    "cols = df.columns.tolist()"
   ]
  },
  {
   "cell_type": "code",
   "execution_count": 118,
   "metadata": {
    "collapsed": true
   },
   "outputs": [],
   "source": [
    "inst_series = df[cols[10]]"
   ]
  },
  {
   "cell_type": "code",
   "execution_count": 119,
   "metadata": {
    "collapsed": false
   },
   "outputs": [
    {
     "name": "stdout",
     "output_type": "stream",
     "text": [
      "(865,)\n"
     ]
    },
    {
     "data": {
      "text/plain": [
       "<matplotlib.axes._subplots.AxesSubplot at 0x12833b4d0>"
      ]
     },
     "execution_count": 119,
     "metadata": {},
     "output_type": "execute_result"
    },
    {
     "data": {
      "image/png": "[encoded data removed]",
      "text/plain": [
       "<matplotlib.figure.Figure at 0x127fa6ad0>"
      ]
     },
     "metadata": {},
     "output_type": "display_data"
    }
   ],
   "source": [
    "print(inst_series.shape)\n",
    "inst_series.hist(bins=100)"
   ]
  },
  {
   "cell_type": "code",
   "execution_count": 120,
   "metadata": {
    "collapsed": false
   },
   "outputs": [
    {
     "name": "stdout",
     "output_type": "stream",
     "text": [
      "(864,)\n"
     ]
    },
    {
     "data": {
      "text/plain": [
       "<matplotlib.axes._subplots.AxesSubplot at 0x1287f62d0>"
      ]
     },
     "execution_count": 120,
     "metadata": {},
     "output_type": "execute_result"
    },
    {
     "data": {
      "image/png": "[encoded data removed]",
      "text/plain": [
       "<matplotlib.figure.Figure at 0x126ac7ed0>"
      ]
     },
     "metadata": {},
     "output_type": "display_data"
    }
   ],
   "source": [
    "inst_series = inst_series[inst_series!=0]\n",
    "print(inst_series.shape)\n",
    "inst_series.hist(bins=100)"
   ]
  },
  {
   "cell_type": "code",
   "execution_count": null,
   "metadata": {
    "collapsed": true
   },
   "outputs": [],
   "source": []
  },
  {
   "cell_type": "code",
   "execution_count": null,
   "metadata": {
    "collapsed": true
   },
   "outputs": [],
   "source": []
  }
 ],
 "metadata": {
  "kernelspec": {
   "display_name": "Python 2",
   "language": "python",
   "name": "python2"
  },
  "language_info": {
   "codemirror_mode": {
    "name": "ipython",
    "version": 2
   },
   "file_extension": ".py",
   "mimetype": "text/x-python",
   "name": "python",
   "nbconvert_exporter": "python",
   "pygments_lexer": "ipython2",
   "version": "2.7.12"
  }
 },
 "nbformat": 4,
 "nbformat_minor": 1
}
