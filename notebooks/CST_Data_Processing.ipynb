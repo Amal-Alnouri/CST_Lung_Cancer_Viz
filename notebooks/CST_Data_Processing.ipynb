{
 "cells": [
  {
   "cell_type": "markdown",
   "metadata": {},
   "source": [
    "# CST Data Processing Notebook\n",
    "This notebook pre-process the post-translational modification (PTM, obtained from [Cell Signaling Technology](https://www.cellsignal.com/?gclid=CjwKEAiAuc_FBRD7_JCM3NSY92wSJABbVoxBgNwSECW6u8dDx8B0BHFqMcF0ij9AVVzap_RPFxnhiBoCgSHw_wcB) and gene expression data (obtained from the [Cancer Cell Line Encyclopedia](http://software.broadinstitute.org/software/cprg/?q=data-resource) for a set of lung cancer cell lines. This processed data will be visualized in the CST_Data_Viz.ipynb notebook."
   ]
  },
  {
   "cell_type": "code",
   "execution_count": 1,
   "metadata": {
    "collapsed": true
   },
   "outputs": [],
   "source": [
    "from clustergrammer_widget import *\n",
    "import pandas as pd\n",
    "import numpy as np\n",
    "net = Network(clustergrammer_widget)"
   ]
  },
  {
   "cell_type": "markdown",
   "metadata": {},
   "source": [
    "# Load Quantile Normalized PTM Data\n",
    "After performing quantile normalization (referred to in previous scripts as improve quantile normalization, iqn) we still have PTMs with many missing values and we will filter out PTMs with too many (> 7 missing) missing values here. "
   ]
  },
  {
   "cell_type": "code",
   "execution_count": 2,
   "metadata": {},
   "outputs": [
    {
     "data": {
      "text/plain": [
       "(1730, 37)"
      ]
     },
     "execution_count": 2,
     "metadata": {},
     "output_type": "execute_result"
    }
   ],
   "source": [
    "# load quantile normalized PTM data\n",
    "filename = '../lung_cellline_3_1_16/lung_cl_all_ptm/precalc_processed/ptmCCLE_col-iqn.txt'\n",
    "net.load_file(filename)\n",
    "\n",
    "# filter out ptms that have more than seven measurements\n",
    "net.filter_threshold('row', threshold=0, num_occur=30)\n",
    "\n",
    "# normalize PTMs across all cell lines \n",
    "net.normalize(axis='row', norm_type='zscore', keep_orig=False)\n",
    "\n",
    "net.swap_nan_for_zero()\n",
    "net.cluster()\n",
    "net.dat['mat'].shape"
   ]
  },
  {
   "cell_type": "code",
   "execution_count": 3,
   "metadata": {},
   "outputs": [
    {
     "data": {
      "application/vnd.jupyter.widget-view+json": {
       "model_id": "f48acd2d75ea40c5a4bdd428d55ead01"
      }
     },
     "metadata": {},
     "output_type": "display_data"
    }
   ],
   "source": [
    "net.cluster(views=[])\n",
    "net.widget()"
   ]
  },
  {
   "cell_type": "markdown",
   "metadata": {},
   "source": [
    "## Add PTM Categories\n",
    "The above heatmap includes phosphorylation, methylation, and acetylation. Here we will add categories to the PTMs to highlight these different PTM types. "
   ]
  },
  {
   "cell_type": "code",
   "execution_count": 4,
   "metadata": {
    "collapsed": true
   },
   "outputs": [],
   "source": [
    "ptm_proc = net.export_df()\n",
    "rows = ptm_proc.index.tolist()"
   ]
  },
  {
   "cell_type": "code",
   "execution_count": 5,
   "metadata": {
    "collapsed": true
   },
   "outputs": [],
   "source": [
    "# add PTM type as a category\n",
    "row_cats = []\n",
    "for inst_row in rows:\n",
    "    inst_cat = 'Data-Type: ' + inst_row.split('_')[1].split('_')[0]\n",
    "    row_cats.append( (inst_row, inst_cat) )\n",
    "\n",
    "ptm_proc.index = row_cats    "
   ]
  },
  {
   "cell_type": "code",
   "execution_count": 6,
   "metadata": {},
   "outputs": [
    {
     "data": {
      "application/vnd.jupyter.widget-view+json": {
       "model_id": "efd92c6a500943288f74853682b9cbcb"
      }
     },
     "metadata": {},
     "output_type": "display_data"
    }
   ],
   "source": [
    "net.load_df(ptm_proc)\n",
    "net.cluster(views=[])\n",
    "net.widget()"
   ]
  },
  {
   "cell_type": "markdown",
   "metadata": {},
   "source": [
    "# Expression Data\n",
    "Here we will load lung cell gene expression data obtained from the CCLE, filter, normalize, add categories, and merge with the PTM data obtained from CST. "
   ]
  },
  {
   "cell_type": "code",
   "execution_count": 7,
   "metadata": {
    "collapsed": true
   },
   "outputs": [],
   "source": [
    "filename = '../lung_cellline_3_1_16/lung_cl_all_ptm/precalc_processed/CCLE_CST_lung.txt'\n",
    "net.load_file(filename)"
   ]
  },
  {
   "cell_type": "code",
   "execution_count": 8,
   "metadata": {},
   "outputs": [
    {
     "data": {
      "text/plain": [
       "(1000, 37)"
      ]
     },
     "execution_count": 8,
     "metadata": {},
     "output_type": "execute_result"
    }
   ],
   "source": [
    "# keep the top 1000 variable genes across the cell lines\n",
    "net.filter_N_top('row', 1000, 'var')\n",
    "net.normalize(axis='row', norm_type='zscore', keep_orig=False)\n",
    "\n",
    "# set max abs-val of any expression Z-score to 10\n",
    "# we do not care about extreme outliers\n",
    "# net.dat['mat'] = np.clip(net.dat['mat'], -10, 10)\n",
    "net.dat['mat'].shape"
   ]
  },
  {
   "cell_type": "code",
   "execution_count": 9,
   "metadata": {},
   "outputs": [
    {
     "data": {
      "application/vnd.jupyter.widget-view+json": {
       "model_id": "9854d9ffb08047fabc084ef842bba4eb"
      }
     },
     "metadata": {},
     "output_type": "display_data"
    }
   ],
   "source": [
    "net.cluster()\n",
    "net.widget()"
   ]
  },
  {
   "cell_type": "markdown",
   "metadata": {},
   "source": [
    "## Add Gene Expression Category\n",
    "Here we will add the gene expression category to our gene expression data so that we will be able to identify this data when it is merged with the PTM data."
   ]
  },
  {
   "cell_type": "code",
   "execution_count": 10,
   "metadata": {
    "collapsed": true
   },
   "outputs": [],
   "source": [
    "ccle = net.export_df()\n",
    "exp_rows = ccle.index.tolist()\n",
    "\n",
    "exp_row_cats = []\n",
    "for inst_row in exp_rows:\n",
    "    exp_row_cats.append( (inst_row, 'Data-Type: Exp') )\n",
    "    \n",
    "ccle.index = exp_row_cats"
   ]
  },
  {
   "cell_type": "markdown",
   "metadata": {},
   "source": [
    "# Merge PTM and Gene Expression Data\n",
    "Here we will merge the gene expression and PTM data into one DataFrame. "
   ]
  },
  {
   "cell_type": "code",
   "execution_count": 11,
   "metadata": {
    "scrolled": true
   },
   "outputs": [
    {
     "data": {
      "text/plain": [
       "(2730, 37)"
      ]
     },
     "execution_count": 11,
     "metadata": {},
     "output_type": "execute_result"
    }
   ],
   "source": [
    "merge_df = ptm_proc.append(ccle)\n",
    "merge_df.shape"
   ]
  },
  {
   "cell_type": "code",
   "execution_count": 12,
   "metadata": {},
   "outputs": [
    {
     "data": {
      "application/vnd.jupyter.widget-view+json": {
       "model_id": "bea9271881a149bbba162f0ec06457a0"
      }
     },
     "metadata": {},
     "output_type": "display_data"
    }
   ],
   "source": [
    "net.load_df(merge_df)\n",
    "net.cluster(views=[])\n",
    "net.widget()"
   ]
  },
  {
   "cell_type": "markdown",
   "metadata": {},
   "source": [
    "## Add Cell Line Categories\n",
    "Here we will add cell line categories, which include: gender, histology, and mutation status. "
   ]
  },
  {
   "cell_type": "code",
   "execution_count": 13,
   "metadata": {
    "collapsed": true
   },
   "outputs": [],
   "source": [
    "cols = merge_df.columns.tolist()\n",
    "\n",
    "# load cell line information from json \n",
    "cl_info = net.load_json_to_dict('../cell_line_info/cell_line_info_dict.json')"
   ]
  },
  {
   "cell_type": "code",
   "execution_count": 25,
   "metadata": {},
   "outputs": [],
   "source": [
    "col_cats = []\n",
    "for inst_col in cols:\n",
    "    inst_info = cl_info[inst_col]\n",
    "    inst_tuple = ('Cell Line: '+inst_col,)\n",
    "    \n",
    "    inst_tuple = inst_tuple + ( 'Histology: '+inst_info['Histology'] ,)\n",
    "    inst_tuple = inst_tuple + ( 'Sub-Histology: '+inst_info['Sub-Histology'] ,)\n",
    "    \n",
    "    for inst_mut in ['mut-TP53', 'mut-EGFR', 'mut-RB1', 'mut-KRAS']:\n",
    "    \n",
    "        inst_string = inst_mut+ ': ' + str(inst_info[inst_mut])\n",
    "        inst_tuple = inst_tuple + (inst_string,)\n",
    "\n",
    "    col_cats.append(inst_tuple)\n",
    "    \n",
    "merge_df.columns = col_cats    \n",
    "ptm_proc.columns = col_cats\n",
    "ccle.columns = col_cats"
   ]
  },
  {
   "cell_type": "code",
   "execution_count": 26,
   "metadata": {
    "collapsed": true
   },
   "outputs": [],
   "source": [
    "merge_df.to_csv('../lung_cellline_3_1_16/lung_cl_all_ptm/precalc_processed/CST_CCLE_merge.txt', sep='\\t')\n",
    "ptm_proc.to_csv('../lung_cellline_3_1_16/lung_cl_all_ptm/precalc_processed/CST_CCLE_ptm.txt', sep='\\t')\n",
    "ccle.to_csv('../lung_cellline_3_1_16/lung_cl_all_ptm/precalc_processed/CST_CCLE_exp.txt', sep='\\t')"
   ]
  },
  {
   "cell_type": "markdown",
   "metadata": {},
   "source": [
    "# Check CST_CCLE_merge"
   ]
  },
  {
   "cell_type": "code",
   "execution_count": 21,
   "metadata": {},
   "outputs": [
    {
     "data": {
      "application/vnd.jupyter.widget-view+json": {
       "model_id": "41d9814f68d447fa91f02e685e1980bf"
      }
     },
     "metadata": {},
     "output_type": "display_data"
    }
   ],
   "source": [
    "net.load_file('../lung_cellline_3_1_16/lung_cl_all_ptm/precalc_processed/CST_CCLE_merge.txt')\n",
    "net.cluster(views=[])\n",
    "net.widget()"
   ]
  },
  {
   "cell_type": "code",
   "execution_count": 22,
   "metadata": {},
   "outputs": [
    {
     "data": {
      "application/vnd.jupyter.widget-view+json": {
       "model_id": "f39788beaece495b8f0e7f045b90803e"
      }
     },
     "metadata": {},
     "output_type": "display_data"
    }
   ],
   "source": [
    "net.load_file('../lung_cellline_3_1_16/lung_cl_all_ptm/precalc_processed/CST_CCLE_ptm.txt')\n",
    "net.cluster(views=[])\n",
    "net.widget()"
   ]
  },
  {
   "cell_type": "markdown",
   "metadata": {
    "collapsed": true
   },
   "source": [
    "# Save Specific Data Type Subsets\n",
    "Here we will save data-type specific files. These files how contain row and column categories."
   ]
  },
  {
   "cell_type": "code",
   "execution_count": 17,
   "metadata": {},
   "outputs": [
    {
     "name": "stdout",
     "output_type": "stream",
     "text": [
      "(1085, 37)\n",
      "(368, 37)\n",
      "(51, 37)\n",
      "(1000, 37)\n",
      "(226, 37)\n"
     ]
    }
   ],
   "source": [
    "for inst_type in ['phospho', 'Rme1', 'Kme1', 'Exp', 'AcK']:\n",
    "    df = net.export_df()\n",
    "    df = df.transpose()\n",
    "\n",
    "    genes = df.columns.tolist()\n",
    "    \n",
    "    genes = [i for i in genes if i[1] == 'Data-Type: ' + inst_type]\n",
    "    \n",
    "    df = df[genes]\n",
    "    \n",
    "    df = df.transpose()\n",
    "    print(df.shape)\n",
    "    \n",
    "    df.to_csv('../lung_cellline_3_1_16/lung_cl_all_ptm/precalc_processed/CST_CCLE_'+ inst_type + '.txt', sep='\\t')\n",
    "    "
   ]
  },
  {
   "cell_type": "code",
   "execution_count": null,
   "metadata": {
    "collapsed": true
   },
   "outputs": [],
   "source": []
  }
 ],
 "metadata": {
  "kernelspec": {
   "display_name": "Python [Root]",
   "language": "python",
   "name": "Python [Root]"
  },
  "language_info": {
   "codemirror_mode": {
    "name": "ipython",
    "version": 2
   },
   "file_extension": ".py",
   "mimetype": "text/x-python",
   "name": "python",
   "nbconvert_exporter": "python",
   "pygments_lexer": "ipython2",
   "version": "2.7.12"
  },
  "widgets": {
   "application/vnd.jupyter.widget-state+json": {
    "state": {},
    "version_major": 1,
    "version_minor": 0
   }
  }
 },
 "nbformat": 4,
 "nbformat_minor": 2
}
