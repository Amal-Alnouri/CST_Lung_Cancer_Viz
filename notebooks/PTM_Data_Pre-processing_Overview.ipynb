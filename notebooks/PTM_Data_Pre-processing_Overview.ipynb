{
 "cells": [
  {
   "cell_type": "markdown",
   "metadata": {},
   "source": [
    "# Pre-processing scripts\n",
    "This notebook will explain what pre-processing was done to the data, which includes: \n",
    "* combining primary data into simple tsv format\n",
    "* calculating log2 ratios\n",
    "* averaging duplicate cell line measurements\n",
    "* making a CCLE-comparable version of the PTM data (e.g. keep only 37 cell lines from CCLE)\n",
    "\n",
    "## Make CCLE-comparable version of PTM data \n",
    "The script `make_CCLE_comparable_matrix.py` combines all PTM data types (phosphorylation, methylation, acetylation) into a single tsv file. Then it averages duplicate measurements of cell lines (some cell lines were measured in two different plexes). Finally, it saves a tsv file with only the 37 cell lines that were found in the CCLE data. "
   ]
  },
  {
   "cell_type": "code",
   "execution_count": null,
   "metadata": {
    "collapsed": true
   },
   "outputs": [],
   "source": []
  }
 ],
 "metadata": {
  "kernelspec": {
   "display_name": "Python [Root]",
   "language": "python",
   "name": "Python [Root]"
  },
  "language_info": {
   "codemirror_mode": {
    "name": "ipython",
    "version": 2
   },
   "file_extension": ".py",
   "mimetype": "text/x-python",
   "name": "python",
   "nbconvert_exporter": "python",
   "pygments_lexer": "ipython2",
   "version": "2.7.12"
  }
 },
 "nbformat": 4,
 "nbformat_minor": 1
}
