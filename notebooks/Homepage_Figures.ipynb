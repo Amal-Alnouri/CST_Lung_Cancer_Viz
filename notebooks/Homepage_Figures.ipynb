{
 "cells": [
  {
   "cell_type": "markdown",
   "metadata": {},
   "source": [
    "# Reproduce homepage figures"
   ]
  },
  {
   "cell_type": "code",
   "execution_count": 1,
   "metadata": {
    "collapsed": false
   },
   "outputs": [],
   "source": [
    "from clustergrammer_widget import *\n",
    "from copy import deepcopy\n"
   ]
  },
  {
   "cell_type": "code",
   "execution_count": null,
   "metadata": {
    "collapsed": true
   },
   "outputs": [],
   "source": [
    "\n",
    "net = deepcopy(Network())\n",
    "\n",
    "filename = '../lung_cellline_3_1_16/lung_cellline_phospho/' + \\\n",
    "'lung_cellline_TMT_phospho_combined_ratios.tsv'\n",
    "\n",
    "net.load_file(filename)"
   ]
  },
  {
   "cell_type": "code",
   "execution_count": 2,
   "metadata": {
    "collapsed": false
   },
   "outputs": [
    {
     "name": "stdout",
     "output_type": "stream",
     "text": [
      "make similarity matrices of rows and columns, add to viz data structure\n"
     ]
    },
    {
     "name": "stderr",
     "output_type": "stream",
     "text": [
      "/Users/nickfernandez/anaconda/lib/python2.7/site-packages/clustergrammer_widget/clustergrammer/make_sim_mat.py:69: FutureWarning: sort is deprecated, use sort_values(inplace=True) for for INPLACE sorting\n",
      "  inst_series.sort(ascending=False)\n"
     ]
    }
   ],
   "source": [
    "# quantile normalize to normalize cell lines\n",
    "net.normalize(axis='col', norm_type='qn')\n",
    "\n",
    "# only keep most differentially regulated PTMs\n",
    "net.filter_N_top('row', 250, 'sum')\n",
    "\n",
    "# take zscore of rows\n",
    "net.normalize(axis='row', norm_type='zscore', keep_orig=True)\n",
    "\n",
    "net.swap_nan_for_zero()\n",
    "\n",
    "# threshold filter PTMs\n",
    "net.filter_threshold('row', threshold=1.75, num_occur=3)\n",
    "\n",
    "views = ['N_row_sum','N_row_var']\n",
    "net.make_clust(dist_type='cos',views=views, dendro=True,\n",
    "             sim_mat=True, calc_cat_pval=True)\n"
   ]
  },
  {
   "cell_type": "code",
   "execution_count": 3,
   "metadata": {
    "collapsed": true
   },
   "outputs": [],
   "source": [
    "# view heatmap of data \n",
    "clustergrammer_notebook(network = net.export_net_json())"
   ]
  },
  {
   "cell_type": "markdown",
   "metadata": {},
   "source": [
    "# Check improved quantile normalization"
   ]
  },
  {
   "cell_type": "code",
   "execution_count": 1,
   "metadata": {
    "collapsed": true
   },
   "outputs": [],
   "source": [
    "from clustergrammer_widget import *\n",
    "from copy import deepcopy\n"
   ]
  },
  {
   "cell_type": "code",
   "execution_count": 2,
   "metadata": {
    "collapsed": false
   },
   "outputs": [],
   "source": [
    "net = deepcopy(Network())\n",
    "\n",
    "filename = '../lung_cellline_3_1_16/lung_cl_all_ptm/precalc_processed/ptm45_col-iqn.txt'\n",
    "\n",
    "net.load_file(filename)\n",
    "\n"
   ]
  },
  {
   "cell_type": "code",
   "execution_count": 3,
   "metadata": {
    "collapsed": true
   },
   "outputs": [],
   "source": [
    "# take zscore of rows\n",
    "net.normalize(axis='row', norm_type='zscore', keep_orig=True)"
   ]
  },
  {
   "cell_type": "code",
   "execution_count": 4,
   "metadata": {
    "collapsed": true
   },
   "outputs": [],
   "source": [
    "net.swap_nan_for_zero()"
   ]
  },
  {
   "cell_type": "code",
   "execution_count": 5,
   "metadata": {
    "collapsed": false
   },
   "outputs": [],
   "source": [
    "# threshold filter PTMs\n",
    "net.filter_threshold('row', threshold=2.65, num_occur=2)\n"
   ]
  },
  {
   "cell_type": "code",
   "execution_count": 6,
   "metadata": {
    "collapsed": false
   },
   "outputs": [
    {
     "name": "stdout",
     "output_type": "stream",
     "text": [
      "make similarity matrices of rows and columns, add to viz data structure\n"
     ]
    }
   ],
   "source": [
    "views = ['N_row_sum','N_row_var']\n",
    "net.make_clust(dist_type='cos',views=views, dendro=True,\n",
    "             sim_mat=True, calc_cat_pval=True)"
   ]
  },
  {
   "cell_type": "markdown",
   "metadata": {},
   "source": [
    "## Biological Repeats \n",
    "When the 'improved' quantile normalization data is processed in the same way as the homepage data (e.g. threshold filtering) then the biological replicates cluster close to each other: H2703s are next to each other, H1437s are next to each other, and H209s are in the same large group. This is just a sanity check to make sure that I am seeing the same broad reasults I saw with the previous normalization type."
   ]
  },
  {
   "cell_type": "code",
   "execution_count": 7,
   "metadata": {
    "collapsed": false
   },
   "outputs": [],
   "source": [
    "# view heatmap of data \n",
    "clustergrammer_notebook(network = net.export_net_json())"
   ]
  },
  {
   "cell_type": "code",
   "execution_count": null,
   "metadata": {
    "collapsed": true
   },
   "outputs": [],
   "source": []
  }
 ],
 "metadata": {
  "kernelspec": {
   "display_name": "Python 2",
   "language": "python",
   "name": "python2"
  },
  "language_info": {
   "codemirror_mode": {
    "name": "ipython",
    "version": 2
   },
   "file_extension": ".py",
   "mimetype": "text/x-python",
   "name": "python",
   "nbconvert_exporter": "python",
   "pygments_lexer": "ipython2",
   "version": "2.7.12"
  },
  "widgets": {
   "state": {
    "027a5d71d3164fe1947e9c644763091e": {
     "views": [
      {
       "cell_index": 13
      }
     ]
    }
   },
   "version": "1.2.0"
  }
 },
 "nbformat": 4,
 "nbformat_minor": 1
}
