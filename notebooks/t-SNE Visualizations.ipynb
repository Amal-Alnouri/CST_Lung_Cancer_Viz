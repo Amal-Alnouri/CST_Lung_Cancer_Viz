{
 "cells": [
  {
   "cell_type": "code",
   "execution_count": 3,
   "metadata": {
    "collapsed": false
   },
   "outputs": [],
   "source": [
    "# imports and plotting defaults\n",
    "import pandas as pd\n",
    "import numpy as np\n",
    "import matplotlib.pyplot as plt\n",
    "%matplotlib inline \n",
    "import matplotlib\n",
    "matplotlib.style.use('ggplot')\n",
    "from copy import deepcopy\n",
    "\n",
    "# use clustergrammer module to load/process (source code in clustergrammer directory)\n",
    "from clustergrammer import Network"
   ]
  },
  {
   "cell_type": "code",
   "execution_count": 4,
   "metadata": {
    "collapsed": false
   },
   "outputs": [
    {
     "name": "stdout",
     "output_type": "stream",
     "text": [
      "(5798, 45)\n"
     ]
    }
   ],
   "source": [
    "# load data data and export as pandas dataframe: inst_df\n",
    "def load_data(filename):\n",
    "    ''' \n",
    "    load data using clustergrammer and export as pandas dataframe\n",
    "    '''\n",
    "    net = deepcopy(Network())\n",
    "    net.load_file(filename)\n",
    "    tmp_df = net.dat_to_df()\n",
    "    inst_df = tmp_df['mat']\n",
    "\n",
    "    # simplify column names (remove categories)\n",
    "    col_names = inst_df.columns.tolist()\n",
    "    simple_col_names = []\n",
    "    for inst_name in col_names:\n",
    "        simple_col_names.append(inst_name[0])\n",
    "\n",
    "    inst_df.columns = simple_col_names\n",
    "\n",
    "    print(inst_df.shape)\n",
    "    \n",
    "    return inst_df\n",
    "\n",
    "filename = '../lung_cellline_3_1_16/lung_cellline_phospho/' + \\\n",
    "'lung_cellline_TMT_phospho_combined_ratios.tsv'\n",
    "inst_df = load_data(filename)"
   ]
  },
  {
   "cell_type": "code",
   "execution_count": null,
   "metadata": {
    "collapsed": true
   },
   "outputs": [],
   "source": []
  }
 ],
 "metadata": {
  "anaconda-cloud": {},
  "kernelspec": {
   "display_name": "Python [Root]",
   "language": "python",
   "name": "Python [Root]"
  },
  "language_info": {
   "codemirror_mode": {
    "name": "ipython",
    "version": 2
   },
   "file_extension": ".py",
   "mimetype": "text/x-python",
   "name": "python",
   "nbconvert_exporter": "python",
   "pygments_lexer": "ipython2",
   "version": "2.7.12"
  }
 },
 "nbformat": 4,
 "nbformat_minor": 1
}
