{
 "cells": [
  {
   "cell_type": "markdown",
   "metadata": {
    "collapsed": true
   },
   "source": [
    "# t-SNE Visualizations\n",
    "I'll use t-SNE to get some quick visualizations of cell line clustering before and after different normalization procedures for hte CST data. "
   ]
  },
  {
   "cell_type": "code",
   "execution_count": 8,
   "metadata": {
    "collapsed": false
   },
   "outputs": [],
   "source": [
    "import numpy as np\n",
    "from matplotlib import pyplot as plt\n",
    "from tsne import bh_sne\n",
    "from copy import deepcopy\n",
    "\n",
    "from clustergrammer import Network \n",
    "net = Network()\n"
   ]
  },
  {
   "cell_type": "markdown",
   "metadata": {
    "collapsed": true
   },
   "source": [
    "Define function for making two tsne plots"
   ]
  },
  {
   "cell_type": "code",
   "execution_count": 9,
   "metadata": {
    "collapsed": true
   },
   "outputs": [],
   "source": [
    "def make_tsne(mat, cmap_left=None, cmap_right=None):\n",
    "    # the matrix needs to be transposed in order to cluster the numbers\n",
    "    x_data = mat.transpose()\n",
    "\n",
    "    # convert image data to float64 matrix. float64 is need for bh_sne\n",
    "    x_data = np.asarray(x_data).astype('float64')\n",
    "\n",
    "    # perform t-SNE embedding, lowered perplexity\n",
    "    vis_data = bh_sne(x_data, perplexity=5)\n",
    "\n",
    "    # plot the result\n",
    "    vis_x = vis_data[:, 0]\n",
    "    vis_y = vis_data[:, 1]\n",
    "\n",
    "    fig, axarr = plt.subplots(ncols=2, figsize=(10,5))\n",
    "    \n",
    "    if cmap_left == None:\n",
    "        axarr[0].scatter(vis_x, vis_y)\n",
    "    else:\n",
    "        axarr[0].scatter(vis_x, vis_y, c=cmap_left, cmap=plt.cm.get_cmap('prism',len(cmap_left)))\n",
    "    \n",
    "    if cmap_right == None:\n",
    "        axarr[1].scatter(vis_x, vis_y)\n",
    "    else:\n",
    "        axarr[1].scatter(vis_x, vis_y, c=cmap_right, cmap=plt.cm.get_cmap('prism',len(cmap_right)))        \n",
    "\n",
    "    plt.show()"
   ]
  },
  {
   "cell_type": "markdown",
   "metadata": {},
   "source": [
    "Load phosphorylation data"
   ]
  },
  {
   "cell_type": "code",
   "execution_count": 13,
   "metadata": {
    "collapsed": false
   },
   "outputs": [
    {
     "data": {
      "image/png": "[encoded data removed]",
      "text/plain": [
       "<matplotlib.figure.Figure at 0x115e676d0>"
      ]
     },
     "metadata": {},
     "output_type": "display_data"
    }
   ],
   "source": [
    "filename = '../lung_cellline_3_1_16/lung_cellline_phospho/' + \\\n",
    "'lung_cellline_TMT_phospho_combined_ratios.tsv'\n",
    "\n",
    "# get dataframe \n",
    "net.load_file(filename)\n",
    "net.swap_nan_for_zero()\n",
    "# do not filter data\n",
    "# net.filter_N_top('row', 100, 'sum')\n",
    "inst_df = net.dat_to_df()\n",
    "df = inst_df['mat']\n",
    "\n",
    "# export dataframe into numpy matrix for tsne\n",
    "tuple_cols = df.columns.tolist()\n",
    "rows = df.index.tolist()\n",
    "mat = df.values\n",
    "df.shape\n",
    "\n",
    "make_tsne(mat)"
   ]
  },
  {
   "cell_type": "code",
   "execution_count": null,
   "metadata": {
    "collapsed": true
   },
   "outputs": [],
   "source": []
  }
 ],
 "metadata": {
  "anaconda-cloud": {},
  "kernelspec": {
   "display_name": "Python [Root]",
   "language": "python",
   "name": "Python [Root]"
  },
  "language_info": {
   "codemirror_mode": {
    "name": "ipython",
    "version": 2
   },
   "file_extension": ".py",
   "mimetype": "text/x-python",
   "name": "python",
   "nbconvert_exporter": "python",
   "pygments_lexer": "ipython2",
   "version": "2.7.12"
  }
 },
 "nbformat": 4,
 "nbformat_minor": 1
}
