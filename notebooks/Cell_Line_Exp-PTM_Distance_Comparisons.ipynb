{
 "cells": [
  {
   "cell_type": "markdown",
   "metadata": {},
   "source": [
    "# Cell Line Exp-PTM Distance Comparisons\n",
    "There are 37 cell lines that are measured both in both CST (post-translational-modification, PTM) and CCLE (gene expression) datasets. We expect that the cell lines should be arranged similarly in PTM-space and gene-expression-space - in other words cell line distances measured based on PTM or gene-expression data should be similar. \n",
    "\n",
    "Since the gene expression data is not missing any data and has already been pre-normalized by the CCLE, we trust gene expression data more than PTM data. Furthermore, we can use cell-line distances in gene-expression-space as a measure for how well we have processed the PTM data. For instance, we would expect that if a normalization procedure is improving the the PTM data then cell line distances in PTM-space should become more similar to cell line distances in gene-expression-space. \n",
    "\n",
    "We can use the Mantel test to measure the correlation between the two distance matrices, PTM and gene-expression distance matrices, and determine if our normalization procedures are improving the PTM data. \n",
    "\n",
    "### Python Scripts\n",
    "First, I made a version of the PTM ratio data (including all PTM types) that was comparable to the CCLE data. This involved only keeping the 37 cell lines found in the CCLE data and averaging over repeat measurements of the same cell line in the CST data: `make_CCLE_comparable_PTM_matrix.py`.\n",
    "\n",
    "I used the following python scripts to perform these calculations. `precalc_PTM_norm.py` was used to pre-calculate different versions of the PTM and gene-expression data where different normalization procetures were performed (e.g. column quantile normalization). \n",
    "\n",
    "Finally, `compare_cl_distances.py` was used to run the Mantel test and calculate the correlations between the distance matrices after a set of different normalization procedures were run. "
   ]
  },
  {
   "cell_type": "code",
   "execution_count": 52,
   "metadata": {
    "collapsed": false
   },
   "outputs": [],
   "source": [
    "import numpy as np\n",
    "import matplotlib.pyplot as plt\n",
    "%matplotlib inline \n",
    "import matplotlib\n",
    "matplotlib.style.use('ggplot')\n",
    "\n",
    "\n",
    "def load_mantel_data(dist_metric):\n",
    "    import pandas as pd\n",
    "\n",
    "    data_type = 'cl_exp_vs_ptm_'+dist_metric+'_pairwise-False.txt'\n",
    "    filename = '../lung_cellline_3_1_16/lung_cl_all_ptm/compare_cl_dist/' + data_type\n",
    "    \n",
    "    f = open(filename, 'r')\n",
    "    lines_norm = f.readlines()\n",
    "    f.close()\n",
    "\n",
    "    f = open(filename, 'r')\n",
    "    lines_pc = f.readlines()\n",
    "    f.close()    \n",
    "    \n",
    "    names = []\n",
    "    corr = []\n",
    "    pval = []\n",
    "    zscore = []\n",
    "    \n",
    "    info = {}\n",
    "    \n",
    "    # normal (non-pairwise-complete)\n",
    "    for i in range(len(lines_norm)):\n",
    "        inst_line = lines_norm[i].strip().split('\\t')\n",
    "\n",
    "        if i > 0:\n",
    "            inst_name = inst_line[0]\n",
    "            info[inst_name] = {}\n",
    "            info[inst_name]['corr'] = float(inst_line[1])\n",
    "            info[inst_name]['pval'] = float(inst_line[2])\n",
    "            info[inst_name]['zscore'] = float(inst_line[3])\n",
    "                        \n",
    "    # add pairwise complete data\n",
    "    for i in range(len(lines_pc)):\n",
    "        inst_line = lines_pc[i].strip().split('\\t')\n",
    "\n",
    "        if i > 0:\n",
    "            inst_name = inst_line[0] + '-PC'\n",
    "            info[inst_name] = {}\n",
    "            info[inst_name]['corr'] = float(inst_line[1])\n",
    "            info[inst_name]['pval'] = float(inst_line[2])\n",
    "            info[inst_name]['zscore'] = float(inst_line[3])\n",
    "              \n",
    "    inst_vect = []\n",
    "    all_names = ['none', 'none-PC', 'row-zscore', 'col-qn']\n",
    "    \n",
    "    for inst_name in all_names:\n",
    "        inst_vect.append( info[inst_name]['corr'] )\n",
    "    \n",
    "    inst_vect = np.asarray(inst_vect)\n",
    "    \n",
    "    data = pd.Series(data=inst_vect, index=all_names)\n",
    "    \n",
    "    \n",
    "    fig = data.plot(kind='bar', figsize=(10,5))\n",
    "    full_title = 'Correlation of Cell-Line PTM and Exp Dist-Mats: ' + dist_metric\n",
    "    fig.set_title(full_title)\n",
    "            \n",
    "    return data"
   ]
  },
  {
   "cell_type": "code",
   "execution_count": 53,
   "metadata": {
    "collapsed": false
   },
   "outputs": [
    {
     "data": {
      "image/png": "[encoded data removed]",
      "text/plain": [
       "<matplotlib.figure.Figure at 0x118274e10>"
      ]
     },
     "metadata": {},
     "output_type": "display_data"
    }
   ],
   "source": [
    "data = load_mantel_data('euclidean')"
   ]
  },
  {
   "cell_type": "code",
   "execution_count": 54,
   "metadata": {
    "collapsed": false
   },
   "outputs": [
    {
     "data": {
      "text/plain": [
       "none          0.345240\n",
       "none-PC       0.345240\n",
       "row-zscore    0.318910\n",
       "col-qn        0.520014\n",
       "dtype: float64"
      ]
     },
     "execution_count": 54,
     "metadata": {},
     "output_type": "execute_result"
    }
   ],
   "source": [
    "data"
   ]
  },
  {
   "cell_type": "code",
   "execution_count": null,
   "metadata": {
    "collapsed": false
   },
   "outputs": [],
   "source": []
  },
  {
   "cell_type": "code",
   "execution_count": null,
   "metadata": {
    "collapsed": false
   },
   "outputs": [],
   "source": []
  },
  {
   "cell_type": "code",
   "execution_count": null,
   "metadata": {
    "collapsed": false
   },
   "outputs": [],
   "source": []
  },
  {
   "cell_type": "code",
   "execution_count": null,
   "metadata": {
    "collapsed": false
   },
   "outputs": [],
   "source": [
    "\n"
   ]
  },
  {
   "cell_type": "code",
   "execution_count": null,
   "metadata": {
    "collapsed": true
   },
   "outputs": [],
   "source": []
  }
 ],
 "metadata": {
  "kernelspec": {
   "display_name": "Python [Root]",
   "language": "python",
   "name": "Python [Root]"
  },
  "language_info": {
   "codemirror_mode": {
    "name": "ipython",
    "version": 2
   },
   "file_extension": ".py",
   "mimetype": "text/x-python",
   "name": "python",
   "nbconvert_exporter": "python",
   "pygments_lexer": "ipython2",
   "version": "2.7.12"
  }
 },
 "nbformat": 4,
 "nbformat_minor": 1
}
