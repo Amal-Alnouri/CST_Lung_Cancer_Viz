{
 "cells": [
  {
   "cell_type": "markdown",
   "metadata": {},
   "source": [
    "# CST PTM Normalization Overview\n",
    "As shown in notebook [CST_PTM_Data_Overview.ipynb](https://github.com/MaayanLab/CST_Lung_Cancer_Viz/blob/master/CST_PTM_Data_Overview.ipynb) the distributions of PTM measurements in the lung cancer cell lines showed systematic variation. This notebook will overview how the data was normalized to correct for this systematic error and will discuss how this normalization affects the clustering of the lung cancer cell lines. "
   ]
  },
  {
   "cell_type": "markdown",
   "metadata": {},
   "source": [
    "# Phosphorylation Normalization\n",
    "As discussed in CST_PTM_Data_Overview.ipnb notebook the phosphorylation data has a significant amount of missing data and the distributions of phosphorylation ratio measurements are significantly different across cell lines. I'll discuss the normalization methods used to correct for this experimental bias and show the effects of this normalization using heatmaps."
   ]
  },
  {
   "cell_type": "code",
   "execution_count": null,
   "metadata": {
    "collapsed": true
   },
   "outputs": [],
   "source": []
  },
  {
   "cell_type": "markdown",
   "metadata": {},
   "source": [
    "## Phosphorylation Data Heatmap "
   ]
  },
  {
   "cell_type": "code",
   "execution_count": null,
   "metadata": {
    "collapsed": true
   },
   "outputs": [],
   "source": []
  },
  {
   "cell_type": "code",
   "execution_count": null,
   "metadata": {
    "collapsed": true
   },
   "outputs": [],
   "source": []
  },
  {
   "cell_type": "code",
   "execution_count": null,
   "metadata": {
    "collapsed": true
   },
   "outputs": [],
   "source": []
  },
  {
   "cell_type": "code",
   "execution_count": null,
   "metadata": {
    "collapsed": true
   },
   "outputs": [],
   "source": []
  },
  {
   "cell_type": "code",
   "execution_count": null,
   "metadata": {
    "collapsed": true
   },
   "outputs": [],
   "source": []
  },
  {
   "cell_type": "code",
   "execution_count": null,
   "metadata": {
    "collapsed": true
   },
   "outputs": [],
   "source": []
  },
  {
   "cell_type": "code",
   "execution_count": null,
   "metadata": {
    "collapsed": true
   },
   "outputs": [],
   "source": []
  },
  {
   "cell_type": "code",
   "execution_count": null,
   "metadata": {
    "collapsed": true
   },
   "outputs": [],
   "source": []
  },
  {
   "cell_type": "code",
   "execution_count": 1,
   "metadata": {
    "collapsed": true
   },
   "outputs": [],
   "source": [
    "from clustergrammer_widget import *\n",
    "import json\n",
    "from copy import deepcopy"
   ]
  },
  {
   "cell_type": "code",
   "execution_count": 7,
   "metadata": {
    "collapsed": false
   },
   "outputs": [],
   "source": [
    "net = deepcopy(Network())\n",
    "\n",
    "filename = 'lung_cellline_3_1_16/lung_cellline_phospho/' + \\\n",
    "'lung_cellline_TMT_phospho_combined_ratios.tsv'\n",
    "\n",
    "net.load_file(filename)\n",
    "\n",
    "# net.normalize(axis='col', norm_type='qn')\n",
    "\n",
    "net.filter_N_top('row', 1000, 'sum')\n",
    "# net.normalize(axis='row', norm_type='zscore', keep_orig=True)\n",
    "net.swap_nan_for_zero()\n",
    "# net.filter_threshold('row', threshold=1.75, num_occur=3)\n",
    "views = []\n",
    "net.make_clust(views=views)\n",
    "network = net.viz    \n",
    "HelloWorld(value='world1', network=json.dumps(network))"
   ]
  },
  {
   "cell_type": "code",
   "execution_count": 3,
   "metadata": {
    "collapsed": false
   },
   "outputs": [],
   "source": []
  },
  {
   "cell_type": "code",
   "execution_count": 4,
   "metadata": {
    "collapsed": false
   },
   "outputs": [],
   "source": []
  },
  {
   "cell_type": "code",
   "execution_count": null,
   "metadata": {
    "collapsed": true
   },
   "outputs": [],
   "source": []
  }
 ],
 "metadata": {
  "anaconda-cloud": {},
  "kernelspec": {
   "display_name": "Python [Root]",
   "language": "python",
   "name": "Python [Root]"
  },
  "language_info": {
   "codemirror_mode": {
    "name": "ipython",
    "version": 2
   },
   "file_extension": ".py",
   "mimetype": "text/x-python",
   "name": "python",
   "nbconvert_exporter": "python",
   "pygments_lexer": "ipython2",
   "version": "2.7.12"
  },
  "widgets": {
   "state": {
    "e82c3da0590448d9bfdd932da8ed277d": {
     "views": [
      {
       "cell_index": 13
      }
     ]
    }
   },
   "version": "1.2.0"
  }
 },
 "nbformat": 4,
 "nbformat_minor": 1
}
