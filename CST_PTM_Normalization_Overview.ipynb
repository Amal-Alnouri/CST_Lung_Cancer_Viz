{
 "cells": [
  {
   "cell_type": "markdown",
   "metadata": {},
   "source": [
    "# CST PTM Normalization Overview\n",
    "As shown in notebook [CST_PTM_Data_Overview.ipynb](https://github.com/MaayanLab/CST_Lung_Cancer_Viz/blob/master/CST_PTM_Data_Overview.ipynb) the distributions of PTM measurements in the lung cancer cell lines showed systematic variation. This notebook will overview how the data was normalized to correct for this systematic error and will discuss how this normalization affects the clustering of the lung cancer cell lines. "
   ]
  },
  {
   "cell_type": "code",
   "execution_count": 1,
   "metadata": {
    "collapsed": true
   },
   "outputs": [],
   "source": [
    "from clustergrammer_widget import *\n",
    "import json\n",
    "from copy import deepcopy"
   ]
  },
  {
   "cell_type": "code",
   "execution_count": 2,
   "metadata": {
    "collapsed": true
   },
   "outputs": [],
   "source": [
    "net = deepcopy(Network())\n",
    "\n",
    "filename = 'lung_cellline_3_1_16/lung_cellline_phospho/' + \\\n",
    "'lung_cellline_TMT_phospho_combined_ratios.tsv'\n",
    "\n",
    "net.load_file(filename)\n",
    "\n",
    "# net.normalize(axis='col', norm_type='qn')\n",
    "\n",
    "net.filter_N_top('row', 100, 'sum')\n",
    "# net.normalize(axis='row', norm_type='zscore', keep_orig=True)\n",
    "net.swap_nan_for_zero()\n",
    "# net.filter_threshold('row', threshold=1.75, num_occur=3)\n",
    "net.make_clust(calc_cat_pval=True)\n",
    "network = net.viz    \n",
    "HelloWorld(value='world1', network=json.dumps(network))"
   ]
  },
  {
   "cell_type": "code",
   "execution_count": 3,
   "metadata": {
    "collapsed": false
   },
   "outputs": [],
   "source": [
    "net = deepcopy(Network())\n",
    "\n",
    "filename = 'lung_cellline_3_1_16/lung_cellline_phospho/' + \\\n",
    "'lung_cellline_TMT_phospho_combined_ratios.tsv'\n",
    "\n",
    "net.load_file(filename)\n",
    "\n",
    "# net.normalize(axis='col', norm_type='qn')\n",
    "\n",
    "net.filter_N_top('row', 100, 'sum')\n",
    "net.normalize(axis='row', norm_type='zscore', keep_orig=True)\n",
    "net.swap_nan_for_zero()\n",
    "# net.filter_threshold('row', threshold=1.75, num_occur=3)\n",
    "net.make_clust(calc_cat_pval=True)\n",
    "network = net.viz    \n",
    "HelloWorld(value='world2', network=json.dumps(network))"
   ]
  },
  {
   "cell_type": "code",
   "execution_count": 4,
   "metadata": {
    "collapsed": false
   },
   "outputs": [],
   "source": [
    "net = deepcopy(Network())\n",
    "\n",
    "filename = 'lung_cellline_3_1_16/lung_cellline_phospho/' + \\\n",
    "'lung_cellline_TMT_phospho_combined_ratios.tsv'\n",
    "\n",
    "net.load_file(filename)\n",
    "\n",
    "net.normalize(axis='col', norm_type='qn')\n",
    "\n",
    "net.filter_N_top('row', 100, 'sum')\n",
    "net.normalize(axis='row', norm_type='zscore', keep_orig=True)\n",
    "net.swap_nan_for_zero()\n",
    "# net.filter_threshold('row', threshold=1.75, num_occur=3)\n",
    "net.make_clust(calc_cat_pval=True)\n",
    "network = net.viz    \n",
    "HelloWorld(value='world3', network=json.dumps(network))"
   ]
  },
  {
   "cell_type": "code",
   "execution_count": null,
   "metadata": {
    "collapsed": true
   },
   "outputs": [],
   "source": []
  }
 ],
 "metadata": {
  "anaconda-cloud": {},
  "kernelspec": {
   "display_name": "Python [Root]",
   "language": "python",
   "name": "Python [Root]"
  },
  "language_info": {
   "codemirror_mode": {
    "name": "ipython",
    "version": 2
   },
   "file_extension": ".py",
   "mimetype": "text/x-python",
   "name": "python",
   "nbconvert_exporter": "python",
   "pygments_lexer": "ipython2",
   "version": "2.7.12"
  },
  "widgets": {
   "state": {
    "7d724441f5d441f4844937f602eb39a2": {
     "views": [
      {
       "cell_index": 4
      }
     ]
    },
    "b9f171e69fe24f7ea1ca983d2def5e56": {
     "views": [
      {
       "cell_index": 2
      }
     ]
    },
    "bdc0d7aff30d4024bd462ccaf8b892af": {
     "views": [
      {
       "cell_index": 3
      }
     ]
    }
   },
   "version": "1.2.0"
  }
 },
 "nbformat": 4,
 "nbformat_minor": 1
}
