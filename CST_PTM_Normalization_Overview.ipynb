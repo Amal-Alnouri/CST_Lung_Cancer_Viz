{
 "cells": [
  {
   "cell_type": "markdown",
   "metadata": {},
   "source": [
    "# CST PTM Normalization Overview\n",
    "As shown in notebook [CST_PTM_Data_Overview.ipynb](https://github.com/MaayanLab/CST_Lung_Cancer_Viz/blob/master/CST_PTM_Data_Overview.ipynb) the distributions of PTM measurements in the lung cancer cell lines showed systematic variation. This notebook will overview how the data was normalized to correct for this systematic error and will discuss how this normalization affects the clustering of the lung cancer cell lines. "
   ]
  },
  {
   "cell_type": "code",
   "execution_count": null,
   "metadata": {
    "collapsed": true
   },
   "outputs": [],
   "source": []
  }
 ],
 "metadata": {
  "kernelspec": {
   "display_name": "Python [Root]",
   "language": "python",
   "name": "Python [Root]"
  },
  "language_info": {
   "codemirror_mode": {
    "name": "ipython",
    "version": 2
   },
   "file_extension": ".py",
   "mimetype": "text/x-python",
   "name": "python",
   "nbconvert_exporter": "python",
   "pygments_lexer": "ipython2",
   "version": "2.7.12"
  }
 },
 "nbformat": 4,
 "nbformat_minor": 1
}
